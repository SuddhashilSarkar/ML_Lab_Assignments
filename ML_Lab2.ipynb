{
  "nbformat": 4,
  "nbformat_minor": 0,
  "metadata": {
    "colab": {
      "provenance": [],
      "authorship_tag": "ABX9TyNrEVmLFJs1zmN3NN7Wg6d2",
      "include_colab_link": true
    },
    "kernelspec": {
      "name": "python3",
      "display_name": "Python 3"
    },
    "language_info": {
      "name": "python"
    }
  },
  "cells": [
    {
      "cell_type": "markdown",
      "metadata": {
        "id": "view-in-github",
        "colab_type": "text"
      },
      "source": [
        "<a href=\"https://colab.research.google.com/github/SuddhashilSarkar/ML_Lab_Assignments/blob/main/ML_Lab2.ipynb\" target=\"_parent\"><img src=\"https://colab.research.google.com/assets/colab-badge.svg\" alt=\"Open In Colab\"/></a>"
      ]
    },
    {
      "cell_type": "code",
      "execution_count": null,
      "metadata": {
        "colab": {
          "base_uri": "https://localhost:8080/"
        },
        "id": "JmjlvKiF4WX4",
        "outputId": "4cda97cf-4435-4760-b7ef-87da5b1d6418"
      },
      "outputs": [
        {
          "output_type": "stream",
          "name": "stdout",
          "text": [
            "Array values:\n",
            " [[1 2 3]\n",
            " [4 5 6]\n",
            " [7 8 9]]\n",
            "\n",
            "Array shape: (3, 3)\n"
          ]
        }
      ],
      "source": [
        "# Create a Numpy array from the following list: [[1, 2, 3], [4, 5, 6], [7, 8,9]] . Print the values of the array and the shape.\n",
        "\n",
        "import numpy as np\n",
        "\n",
        "# Create a Numpy array from the list\n",
        "arr = np.array([[1, 2, 3], [4, 5, 6], [7, 8, 9]])\n",
        "\n",
        "# Print the values of the array\n",
        "print(\"Array values:\\n\", arr)\n",
        "\n",
        "# Print the shape of the array\n",
        "print(\"\\nArray shape:\", arr.shape)\n"
      ]
    },
    {
      "cell_type": "code",
      "source": [
        "#  Perform the following Numpy operations\n",
        "# a) Create a Numpy array my_arr filled with all ones with 3 rows and 4 columns.\n",
        "# b) Add the value 5 to each element of the Numpy array my_arr .\n",
        "# c) Perform the element-wise logarithm of the Numpy array my_arr .\n",
        "# d) Compute the mean in arr_mean ,\n",
        "# e) the standard deviation in arr_std ,\n",
        "# f) the sum in arr_sum ,\n",
        "# g) the max value in arr_max ,\n",
        "\n",
        "import numpy as np\n",
        "\n",
        "\n",
        "# Create a Numpy array from the list\n",
        "arr = np.array([[1, 2, 3], [4, 5, 6], [7, 8, 9]])\n",
        "\n",
        "# Print the values of the array\n",
        "print(\"Array values:\\n\", arr)\n",
        "\n",
        "# Print the shape of the array\n",
        "print(\"\\nArray shape:\", arr.shape)\n",
        "\n",
        "# a) Create a Numpy array filled with all ones\n",
        "my_arr = np.ones((3, 4))\n",
        "print(\"\\nArray filled with ones:\\n\", my_arr)\n",
        "\n",
        "# b) Add the value 5 to each element of the array\n",
        "my_arr_plus_5 = my_arr + 5\n",
        "print(\"\\nArray with 5 added to each element:\\n\", my_arr_plus_5)\n",
        "\n",
        "# c) Perform the element-wise logarithm of the array\n",
        "my_arr_log = np.log(my_arr_plus_5)\n",
        "print(\"\\nElement-wise logarithm of the array:\\n\", my_arr_log)\n",
        "\n",
        "# d) Compute the mean, standard deviation, sum, and max value of the original array\n",
        "arr_mean = np.mean(arr)\n",
        "arr_std = np.std(arr)\n",
        "arr_sum = np.sum(arr)\n",
        "arr_max = np.max(arr)\n",
        "\n",
        "print(\"\\nMean of the array:\", arr_mean)\n",
        "print(\"Standard deviation of the array:\", arr_std)\n",
        "print(\"Sum of the array:\", arr_sum)\n",
        "print(\"Max value in the array:\", arr_max)\n"
      ],
      "metadata": {
        "colab": {
          "base_uri": "https://localhost:8080/"
        },
        "id": "1GkhLdfV4lbM",
        "outputId": "7ed5fb59-00cc-4488-ab93-e9df36e0d637"
      },
      "execution_count": null,
      "outputs": [
        {
          "output_type": "stream",
          "name": "stdout",
          "text": [
            "Array values:\n",
            " [[1 2 3]\n",
            " [4 5 6]\n",
            " [7 8 9]]\n",
            "\n",
            "Array shape: (3, 3)\n",
            "\n",
            "Array filled with ones:\n",
            " [[1. 1. 1. 1.]\n",
            " [1. 1. 1. 1.]\n",
            " [1. 1. 1. 1.]]\n",
            "\n",
            "Array with 5 added to each element:\n",
            " [[6. 6. 6. 6.]\n",
            " [6. 6. 6. 6.]\n",
            " [6. 6. 6. 6.]]\n",
            "\n",
            "Element-wise logarithm of the array:\n",
            " [[1.79175947 1.79175947 1.79175947 1.79175947]\n",
            " [1.79175947 1.79175947 1.79175947 1.79175947]\n",
            " [1.79175947 1.79175947 1.79175947 1.79175947]]\n",
            "\n",
            "Mean of the array: 5.0\n",
            "Standard deviation of the array: 2.581988897471611\n",
            "Sum of the array: 45\n",
            "Max value in the array: 9\n"
          ]
        }
      ]
    },
    {
      "cell_type": "code",
      "source": [
        "# h) the index of the max value in arr_max_idx of the array my_arr.\n",
        "arr_max_idx = np.argmax(my_arr)\n",
        "print(\"\\nIndex of the max value in my_arr:\", arr_max_idx)\n",
        "\n",
        "# i) Compute the mean along the rows axis in arr_mean_rows of the array my_arr.\n",
        "arr_mean_rows = np.mean(my_arr, axis=0)\n",
        "print(\"\\nMean along the rows of my_arr:\", arr_mean_rows)\n"
      ],
      "metadata": {
        "colab": {
          "base_uri": "https://localhost:8080/"
        },
        "id": "UFphipVx49uF",
        "outputId": "3251b0fd-4c17-4ea2-956d-4c10fbdc2412"
      },
      "execution_count": null,
      "outputs": [
        {
          "output_type": "stream",
          "name": "stdout",
          "text": [
            "\n",
            "Index of the max value in my_arr: 0\n",
            "\n",
            "Mean along the rows of my_arr: [1. 1. 1. 1.]\n"
          ]
        }
      ]
    },
    {
      "cell_type": "code",
      "source": [
        "# Create a Numpy array my_arr filled with all ones with 5 rows and 5 columns.\n",
        "# a) Assign the value of the element in the fourth row and the second column of the array my_arr into a variable value .\n",
        "# b) Assign the values of the slice corresponding to the rows from 0 to 2 (both included) and the columns from 1 to 2\n",
        "#  (both included) into a variable slice_arr\n",
        "\n",
        "import numpy as np\n",
        "# Create a Numpy array filled with all ones (5x5)\n",
        "my_arr = np.ones((5, 5))\n",
        "\n",
        "# a) Assign the value of the element in the fourth row and second column\n",
        "value = my_arr[3, 1]\n",
        "print(\"Value at (3, 1):\", value)\n",
        "\n",
        "# b) Assign the slice corresponding to rows 0-2 and columns 1-2\n",
        "slice_arr = my_arr[0:3, 1:3]\n",
        "print(\"\\nSlice of the array:\\n\", slice_arr)\n",
        "\n",
        "# c) Assign the values of the slice with all the columns of the last 3 rows into a variable slice_arr.\n",
        "slice_arr = my_arr[2:, :]\n",
        "print(\"\\nSlice of the last 3 rows:\\n\", slice_arr)\n",
        "\n",
        "# d) Assign the values of the slice with all the columns of the last 3 rows into a variable slice_arr.\n",
        "# Then assign to all the elements of slice_arr the value -1\n",
        "slice_arr = my_arr[2:, :]\n",
        "slice_arr[:] = -1\n",
        "print(\"\\nSlice of the last 3 rows with -1 values:\\n\", slice_arr)\n"
      ],
      "metadata": {
        "colab": {
          "base_uri": "https://localhost:8080/"
        },
        "id": "C9RIO0oe5IPS",
        "outputId": "72bd84f7-627b-44b2-b9b9-745f4fb5b2db"
      },
      "execution_count": null,
      "outputs": [
        {
          "output_type": "stream",
          "name": "stdout",
          "text": [
            "Value at (3, 1): 1.0\n",
            "\n",
            "Slice of the array:\n",
            " [[1. 1.]\n",
            " [1. 1.]\n",
            " [1. 1.]]\n",
            "\n",
            "Slice of the last 3 rows:\n",
            " [[1. 1. 1. 1. 1.]\n",
            " [1. 1. 1. 1. 1.]\n",
            " [1. 1. 1. 1. 1.]]\n",
            "\n",
            "Slice of the last 3 rows with -1 values:\n",
            " [[-1. -1. -1. -1. -1.]\n",
            " [-1. -1. -1. -1. -1.]\n",
            " [-1. -1. -1. -1. -1.]]\n"
          ]
        }
      ]
    },
    {
      "cell_type": "code",
      "source": [
        "# Create a Numpy array my_arr filled with all ones with 4 rows and 6 columns.\n",
        "# a) Counts the number of non-zero values in the array\n",
        "# b) Count the number of elements along a given axis\n",
        "# c) Trim the leading and/or trailing zeros from a 1-D array\n",
        "# d) Reverse a numpy array\n",
        "\n",
        "import numpy as np\n",
        "# Create a Numpy array filled with all ones (4x6)\n",
        "my_arr = np.ones((4, 6))\n",
        "\n",
        "# a) Count non-zero values\n",
        "non_zero_count = np.count_nonzero(my_arr)\n",
        "print(\"Number of non-zero values:\", non_zero_count)\n",
        "\n",
        "# b) Count elements along an axis\n",
        "count_along_axis_0 = np.count_nonzero(my_arr, axis=0)\n",
        "print(\"\\nCount along axis 0:\", count_along_axis_0)\n",
        "\n",
        "# c) Trim leading/trailing zeros (example with a 1D array)\n",
        "arr_1d = np.array([0, 0, 1, 2, 3, 0, 0])\n",
        "trimmed_arr = np.trim_zeros(arr_1d)\n",
        "print(\"\\nTrimmed 1D array:\", trimmed_arr)\n",
        "\n",
        "# d) Reverse the array\n",
        "reversed_arr = np.flip(my_arr)\n",
        "print(\"\\nReversed array:\\n\", reversed_arr)\n",
        "\n",
        "# e) Calculate the sum of the diagonal elements of a NumPy array\n",
        "diagonal_sum = np.trace(my_arr)\n",
        "print(\"\\nSum of diagonal elements:\", diagonal_sum)\n",
        "\n",
        "# f) Adding and Subtracting Matrices in Python\n",
        "matrix1 = np.array([[1, 2], [3, 4]])\n",
        "matrix2 = np.array([[5, 6], [7, 8]])\n",
        "\n",
        "addition_result = matrix1 + matrix2\n",
        "subtraction_result = matrix1 - matrix2\n",
        "\n",
        "print(\"\\nAddition of matrices:\\n\", addition_result)\n",
        "print(\"\\nSubtraction of matrices:\\n\", subtraction_result)\n",
        "\n",
        "# g) Ways to add row/columns in numpy array\n",
        "# Adding a row\n",
        "new_row = np.array([9, 10, 11, 12, 13, 14])\n",
        "my_arr_with_row = np.vstack((my_arr, new_row))\n",
        "print(\"\\nArray with added row:\\n\", my_arr_with_row)\n",
        "\n",
        "# Adding a column\n",
        "new_column = np.array([13, 14, 15, 16]).reshape(-1, 1)\n",
        "my_arr_with_column = np.hstack((my_arr, new_column))\n",
        "print(\"\\nArray with added column:\\n\", my_arr_with_column)\n",
        "\n",
        "# h) Matrix Multiplication in NumPy\n",
        "matrix3 = np.array([[1, 2], [3, 4]])\n",
        "matrix4 = np.array([[5, 6], [7, 8]])\n",
        "\n",
        "multiplication_result = np.dot(matrix3, matrix4)\n",
        "print(\"\\nMatrix multiplication result:\\n\", multiplication_result)\n"
      ],
      "metadata": {
        "colab": {
          "base_uri": "https://localhost:8080/"
        },
        "id": "NIqjN3rN5wNT",
        "outputId": "55b83d28-898b-4ffb-a73f-afe9cda97aa6"
      },
      "execution_count": null,
      "outputs": [
        {
          "output_type": "stream",
          "name": "stdout",
          "text": [
            "Number of non-zero values: 24\n",
            "\n",
            "Count along axis 0: [4 4 4 4 4 4]\n",
            "\n",
            "Trimmed 1D array: [1 2 3]\n",
            "\n",
            "Reversed array:\n",
            " [[1. 1. 1. 1. 1. 1.]\n",
            " [1. 1. 1. 1. 1. 1.]\n",
            " [1. 1. 1. 1. 1. 1.]\n",
            " [1. 1. 1. 1. 1. 1.]]\n",
            "\n",
            "Sum of diagonal elements: 4.0\n",
            "\n",
            "Addition of matrices:\n",
            " [[ 6  8]\n",
            " [10 12]]\n",
            "\n",
            "Subtraction of matrices:\n",
            " [[-4 -4]\n",
            " [-4 -4]]\n",
            "\n",
            "Array with added row:\n",
            " [[ 1.  1.  1.  1.  1.  1.]\n",
            " [ 1.  1.  1.  1.  1.  1.]\n",
            " [ 1.  1.  1.  1.  1.  1.]\n",
            " [ 1.  1.  1.  1.  1.  1.]\n",
            " [ 9. 10. 11. 12. 13. 14.]]\n",
            "\n",
            "Array with added column:\n",
            " [[ 1.  1.  1.  1.  1.  1. 13.]\n",
            " [ 1.  1.  1.  1.  1.  1. 14.]\n",
            " [ 1.  1.  1.  1.  1.  1. 15.]\n",
            " [ 1.  1.  1.  1.  1.  1. 16.]]\n",
            "\n",
            "Matrix multiplication result:\n",
            " [[19 22]\n",
            " [43 50]]\n"
          ]
        }
      ]
    },
    {
      "cell_type": "code",
      "source": [
        "# Create a Numpy array my_arr filled with all ones with 4 rows and 6 columns.\n",
        "# a) How to get the indices of the sorted array using NumPy in Python?\n",
        "# b) Finding the k smallest values of a NumPy array\n",
        "# c) How to get the n-largest values of an array using NumPy?\n",
        "# d) Sort the values in a matrix\n",
        "\n",
        "import numpy as np\n",
        "# Create a Numpy array filled with all ones (4x6)\n",
        "my_arr = np.ones((4, 6))\n",
        "\n",
        "# a) Get indices of sorted array\n",
        "sorted_indices = np.argsort(my_arr, axis=None)  # Flatten and sort\n",
        "print(\"Indices of sorted array:\", sorted_indices)\n",
        "\n",
        "# b) Finding k smallest values (example with k=3)\n",
        "k = 3\n",
        "smallest_indices = np.argpartition(my_arr, kth=k, axis=None)[:k]\n",
        "smallest_values = my_arr.flatten()[smallest_indices]\n",
        "print(\"\\nSmallest values:\", smallest_values)\n",
        "\n",
        "# c) Get n-largest values (example with n=5)\n",
        "n = 5\n",
        "largest_indices = np.argpartition(my_arr, kth=-n, axis=None)[-n:]\n",
        "largest_values = my_arr.flatten()[largest_indices]\n",
        "print(\"\\nLargest values:\", largest_values)\n",
        "\n",
        "# d) Sort values in a matrix (along each row)\n",
        "sorted_matrix = np.sort(my_arr, axis=1)\n",
        "print(\"\\nSorted matrix (row-wise):\\n\", sorted_matrix)\n"
      ],
      "metadata": {
        "colab": {
          "base_uri": "https://localhost:8080/"
        },
        "id": "cw3OsKT16Vfq",
        "outputId": "e7dd7bff-50eb-4751-e887-745c68c2f038"
      },
      "execution_count": null,
      "outputs": [
        {
          "output_type": "stream",
          "name": "stdout",
          "text": [
            "Indices of sorted array: [ 0 21 20 19 18 17 16 15 14 13 12 11 10  9  8  7  6  5  4  3  2  1 22 23]\n",
            "\n",
            "Smallest values: [1. 1. 1.]\n",
            "\n",
            "Largest values: [1. 1. 1. 1. 1.]\n",
            "\n",
            "Sorted matrix (row-wise):\n",
            " [[1. 1. 1. 1. 1. 1.]\n",
            " [1. 1. 1. 1. 1. 1.]\n",
            " [1. 1. 1. 1. 1. 1.]\n",
            " [1. 1. 1. 1. 1. 1.]]\n"
          ]
        }
      ]
    }
  ]
}