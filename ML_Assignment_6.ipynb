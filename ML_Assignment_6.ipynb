{
  "nbformat": 4,
  "nbformat_minor": 0,
  "metadata": {
    "colab": {
      "provenance": [],
      "authorship_tag": "ABX9TyOEIXT/CKxqUYcJ6nzeLXeK",
      "include_colab_link": true
    },
    "kernelspec": {
      "name": "python3",
      "display_name": "Python 3"
    },
    "language_info": {
      "name": "python"
    }
  },
  "cells": [
    {
      "cell_type": "markdown",
      "metadata": {
        "id": "view-in-github",
        "colab_type": "text"
      },
      "source": [
        "<a href=\"https://colab.research.google.com/github/SuddhashilSarkar/ML_Lab_Assignments/blob/main/ML_Assignment_6.ipynb\" target=\"_parent\"><img src=\"https://colab.research.google.com/assets/colab-badge.svg\" alt=\"Open In Colab\"/></a>"
      ]
    },
    {
      "cell_type": "markdown",
      "source": [
        "**Group A**"
      ],
      "metadata": {
        "id": "LjeZWOc69N7D"
      }
    },
    {
      "cell_type": "code",
      "execution_count": 2,
      "metadata": {
        "colab": {
          "base_uri": "https://localhost:8080/"
        },
        "id": "-fx-lYFo9DAr",
        "outputId": "f34fdd71-c7d2-43d6-b937-a9fe28fcd59f"
      },
      "outputs": [
        {
          "output_type": "stream",
          "name": "stdout",
          "text": [
            "Second largest element is: 45\n"
          ]
        }
      ],
      "source": [
        "list1 = [10, 20, 4, 45, 99]\n",
        "list1.sort()\n",
        "print(\"Second largest element is:\", list1[-2])\n"
      ]
    },
    {
      "cell_type": "code",
      "source": [
        "# Python program to Swap elements in String list\n",
        "def swap(lst, i, j):\n",
        "  lst[i], lst[j] = lst[j], lst[i]\n",
        "\n",
        "test_list = ['Gfg', 'is', 'best', 'for', 'Geeks']\n",
        "print(\"The original list is : \" + str(test_list))\n",
        "swap(test_list, 0, 3)\n",
        "print(\"List after performing swap : \" + str(test_list))\n"
      ],
      "metadata": {
        "colab": {
          "base_uri": "https://localhost:8080/"
        },
        "id": "rtnrME2K9qGz",
        "outputId": "293ff266-b9e3-4bda-ba7d-7c228a485be0"
      },
      "execution_count": 3,
      "outputs": [
        {
          "output_type": "stream",
          "name": "stdout",
          "text": [
            "The original list is : ['Gfg', 'is', 'best', 'for', 'Geeks']\n",
            "List after performing swap : ['for', 'is', 'best', 'Gfg', 'Geeks']\n"
          ]
        }
      ]
    },
    {
      "cell_type": "code",
      "source": [
        "# Python program to Remove empty List from List\n",
        "test_list = [5, 6, [], 3, [], [], 9]\n",
        "print(\"The original list is : \" + str(test_list))\n",
        "res = [ele for ele in test_list if ele != []]\n",
        "print (\"List after empty list removal : \" + str(res))\n"
      ],
      "metadata": {
        "colab": {
          "base_uri": "https://localhost:8080/"
        },
        "id": "k42AbHQj-BhD",
        "outputId": "15593ebb-a164-4c61-e59d-5f3422490d75"
      },
      "execution_count": 4,
      "outputs": [
        {
          "output_type": "stream",
          "name": "stdout",
          "text": [
            "The original list is : [5, 6, [], 3, [], [], 9]\n",
            "List after empty list removal : [5, 6, 3, 9]\n"
          ]
        }
      ]
    },
    {
      "cell_type": "code",
      "source": [
        "#Pair elements with Rear element in Matrix Row.\n",
        "\n",
        "test_list = [[4, 5, 6], [8, 1, 10], [7, 12, 5]]\n",
        "print(\"The original list is : \" + str(test_list))\n",
        "res = [[ele, sub[len(sub) - 1]] for sub in test_list for ele in sub[:-1]]\n",
        "print(\"The paired list is : \" + str(res))\n"
      ],
      "metadata": {
        "colab": {
          "base_uri": "https://localhost:8080/"
        },
        "id": "XNuvM3S_-QyJ",
        "outputId": "c561f896-ce98-4393-f847-028ff5227925"
      },
      "execution_count": 5,
      "outputs": [
        {
          "output_type": "stream",
          "name": "stdout",
          "text": [
            "The original list is : [[4, 5, 6], [8, 1, 10], [7, 12, 5]]\n",
            "The paired list is : [[4, 6], [5, 6], [8, 10], [1, 10], [7, 5], [12, 5]]\n"
          ]
        }
      ]
    },
    {
      "cell_type": "code",
      "source": [
        "# Python program for Sorting Dictionary by Key\n",
        "test_dict = {'gfg': [7, 6, 3],\n",
        "             'is': [2, 10, 9],\n",
        "             'best': [19, 4]}\n",
        "print(\"The original dictionary is : \" + str(test_dict))\n",
        "res = dict(sorted(test_dict.items()))\n",
        "print(\"The sorted dictionary by key is : \" + str(res))\n"
      ],
      "metadata": {
        "colab": {
          "base_uri": "https://localhost:8080/"
        },
        "id": "5ma3h3iy-jWp",
        "outputId": "82e0c07d-c2f3-4f17-82bc-b4166ec62c6d"
      },
      "execution_count": 6,
      "outputs": [
        {
          "output_type": "stream",
          "name": "stdout",
          "text": [
            "The original dictionary is : {'gfg': [7, 6, 3], 'is': [2, 10, 9], 'best': [19, 4]}\n",
            "The sorted dictionary by key is : {'best': [19, 4], 'gfg': [7, 6, 3], 'is': [2, 10, 9]}\n"
          ]
        }
      ]
    },
    {
      "cell_type": "code",
      "source": [
        "# Python program for merging two Dictionaries unpacking operator\n",
        "dict1 = {'x': 10, 'y': 8}\n",
        "dict2 = {'a': 6, 'b': 4}\n",
        "res = {**dict1, **dict2}\n",
        "print(\"The merged dictionary is : \" + str(res))\n"
      ],
      "metadata": {
        "colab": {
          "base_uri": "https://localhost:8080/"
        },
        "id": "LxX9vGMB-seK",
        "outputId": "bf9967a6-9fec-4fa6-8ac0-7e507a8f2c6d"
      },
      "execution_count": 7,
      "outputs": [
        {
          "output_type": "stream",
          "name": "stdout",
          "text": [
            "The merged dictionary is : {'x': 10, 'y': 8, 'a': 6, 'b': 4}\n"
          ]
        }
      ]
    },
    {
      "cell_type": "code",
      "source": [
        "# Python program to replace words from Dictionary\n",
        "\n",
        "# Python3 code to demonstrate working of\n",
        "# Replace words from Dictionary\n",
        "# Using dict() + zip()\n",
        "\n",
        "# initializing list\n",
        "test_list = [\"Gfg\", \"is\", \"best\"]\n",
        "\n",
        "# printing original list\n",
        "print(\"The original list : \" + str(test_list))\n",
        "\n",
        "# initializing replace mapping\n",
        "repl_dict = {\"Gfg\" : \"It\", \"is\" : \"was\"}\n",
        "\n",
        "# Replace words from Dictionary\n",
        "# Using dict() + zip()\n",
        "res = list(map(lambda ele: repl_dict.get(ele, ele), test_list))\n",
        "\n",
        "# printing result\n",
        "print(\"List after replacement : \" + str(res))\n"
      ],
      "metadata": {
        "colab": {
          "base_uri": "https://localhost:8080/"
        },
        "id": "kzQYZ-KV-4E5",
        "outputId": "8b613f63-62f8-470c-c31b-9ddb9f774419"
      },
      "execution_count": 8,
      "outputs": [
        {
          "output_type": "stream",
          "name": "stdout",
          "text": [
            "The original list : ['Gfg', 'is', 'best']\n",
            "List after replacement : ['It', 'was', 'best']\n"
          ]
        }
      ]
    },
    {
      "cell_type": "markdown",
      "source": [
        "**Group B**"
      ],
      "metadata": {
        "id": "Bn_MfuB8_IPx"
      }
    },
    {
      "cell_type": "code",
      "source": [
        "import pandas as pd\n",
        "import numpy as np\n",
        "from sklearn.datasets import load_iris\n",
        "from sklearn.model_selection import train_test_split\n",
        "from sklearn.neighbors import KNeighborsClassifier\n",
        "from sklearn.metrics import accuracy_score, confusion_matrix, precision_score, recall_score, f1_score, cohen_kappa_score\n",
        "\n",
        "# Load the Iris dataset\n",
        "iris = load_iris()\n",
        "X = iris.data\n",
        "y = iris.target\n",
        "\n",
        "# Convert to DataFrame for better readability\n",
        "df = pd.DataFrame(data=X, columns=iris.feature_names)\n",
        "df['target'] = y\n",
        "\n",
        "# Split the dataset into training and testing sets (80-20 split)\n",
        "X_train, X_test, y_train, y_test = train_test_split(X, y, test_size=0.2, random_state=42)\n",
        "\n",
        "# Initialize KNN classifier\n",
        "knn = KNeighborsClassifier()\n",
        "\n",
        "# Train the classifier\n",
        "knn.fit(X_train, y_train)\n",
        "\n",
        "# Make predictions\n",
        "y_pred = knn.predict(X_test)\n",
        "\n",
        "# Calculate accuracy\n",
        "accuracy = accuracy_score(y_test, y_pred)\n",
        "print(f\"Accuracy: {accuracy:.2f}\")\n",
        "\n",
        "# Generate confusion matrix\n",
        "cm = confusion_matrix(y_test, y_pred)\n",
        "print(\"Confusion Matrix:\")\n",
        "print(cm)\n",
        "\n",
        "# Calculate Precision, Recall, F1-Score for each class\n",
        "precision = precision_score(y_test, y_pred, average='weighted')\n",
        "recall = recall_score(y_test, y_pred, average='weighted')\n",
        "f1 = f1_score(y_test, y_pred, average='weighted')\n",
        "print(f\"Precision: {precision:.2f}\")\n",
        "print(f\"Recall: {recall:.2f}\")\n",
        "print(f\"F1-Score: {f1:.2f}\")\n",
        "\n",
        "# Calculate Sensitivity, Specificity, and Kappa statistic\n",
        "# Sensitivity (Recall) for each class is already computed as recall above\n",
        "\n",
        "# Specificity for each class\n",
        "def specificity(conf_matrix):\n",
        "    tn = np.diag(conf_matrix)\n",
        "    fp = conf_matrix.sum(axis=0) - tn\n",
        "    specificity = tn / (tn + fp)\n",
        "    return np.mean(specificity)  # Average across classes\n",
        "\n",
        "specificity_value = specificity(cm)\n",
        "print(f\"Specificity: {specificity_value:.2f}\")\n",
        "\n",
        "# Cohen's Kappa statistic\n",
        "kappa = cohen_kappa_score(y_test, y_pred)\n",
        "print(f\"Cohen's Kappa Statistic: {kappa:.2f}\")\n"
      ],
      "metadata": {
        "colab": {
          "base_uri": "https://localhost:8080/"
        },
        "id": "1L6iUzfR_Nox",
        "outputId": "ef42b290-c9ac-4592-eb9d-93c5e679b69a"
      },
      "execution_count": 10,
      "outputs": [
        {
          "output_type": "stream",
          "name": "stdout",
          "text": [
            "Accuracy: 1.00\n",
            "Confusion Matrix:\n",
            "[[10  0  0]\n",
            " [ 0  9  0]\n",
            " [ 0  0 11]]\n",
            "Precision: 1.00\n",
            "Recall: 1.00\n",
            "F1-Score: 1.00\n",
            "Specificity: 1.00\n",
            "Cohen's Kappa Statistic: 1.00\n"
          ]
        }
      ]
    },
    {
      "cell_type": "code",
      "source": [
        "import pandas as pd\n",
        "import numpy as np\n",
        "import matplotlib.pyplot as plt\n",
        "from sklearn.datasets import load_iris\n",
        "from sklearn.model_selection import train_test_split\n",
        "from sklearn.neighbors import KNeighborsClassifier\n",
        "from sklearn.metrics import accuracy_score\n",
        "\n",
        "# Load the Iris dataset\n",
        "iris = load_iris()\n",
        "X = iris.data\n",
        "y = iris.target\n",
        "\n",
        "# Convert to DataFrame for better readability\n",
        "df = pd.DataFrame(data=X, columns=iris.feature_names)\n",
        "df['target'] = y\n",
        "\n",
        "# Define a function to train KNN and return accuracy\n",
        "def evaluate_knn(split_ratio):\n",
        "    # Split the dataset into training and testing sets\n",
        "    X_train, X_test, y_train, y_test = train_test_split(X, y, test_size=1-split_ratio, random_state=42)\n",
        "\n",
        "    # Initialize KNN classifier\n",
        "    knn = KNeighborsClassifier()\n",
        "\n",
        "    # Train the classifier\n",
        "    knn.fit(X_train, y_train)\n",
        "\n",
        "    # Make predictions\n",
        "    y_pred = knn.predict(X_test)\n",
        "\n",
        "    # Calculate accuracy\n",
        "    accuracy = accuracy_score(y_test, y_pred)\n",
        "\n",
        "    return accuracy\n",
        "\n",
        "# Evaluate KNN for different train-test splits\n",
        "accuracy_80_20 = evaluate_knn(0.8)\n",
        "accuracy_70_30 = evaluate_knn(0.7)\n",
        "accuracy_65_35 = evaluate_knn(0.65)\n",
        "\n",
        "# Display accuracies\n",
        "print(f\"Accuracy (80-20 split): {accuracy_80_20:.2f}\")\n",
        "print(f\"Accuracy (70-30 split): {accuracy_70_30:.2f}\")\n",
        "print(f\"Accuracy (65-35 split): {accuracy_65_35:.2f}\")\n",
        "\n",
        "# Plot the accuracies\n",
        "splits = ['80-20 Split', '70-30 Split', '65-35 Split']\n",
        "accuracies = [accuracy_80_20, accuracy_70_30, accuracy_65_35]\n",
        "\n",
        "plt.figure(figsize=(8, 5))\n",
        "plt.bar(splits, accuracies, color=['blue', 'green', 'red'])\n",
        "plt.xlabel('Train-Test Split')\n",
        "plt.ylabel('Accuracy')\n",
        "plt.title('Accuracy of KNN Classifier for Different Train-Test Splits')\n",
        "plt.ylim([0, 1])\n",
        "plt.show()\n"
      ],
      "metadata": {
        "colab": {
          "base_uri": "https://localhost:8080/",
          "height": 539
        },
        "id": "dpCRxYpB_iT6",
        "outputId": "9e5161d5-f0fd-4be3-f79c-0eda7d55550b"
      },
      "execution_count": 11,
      "outputs": [
        {
          "output_type": "stream",
          "name": "stdout",
          "text": [
            "Accuracy (80-20 split): 1.00\n",
            "Accuracy (70-30 split): 1.00\n",
            "Accuracy (65-35 split): 0.98\n"
          ]
        },
        {
          "output_type": "display_data",
          "data": {
            "text/plain": [
              "<Figure size 800x500 with 1 Axes>"
            ],
            "image/png": "[encoded data removed]"
          },
          "metadata": {}
        }
      ]
    }
  ]
}